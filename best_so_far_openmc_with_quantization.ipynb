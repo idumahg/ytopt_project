{
 "cells": [
  {
   "cell_type": "code",
   "execution_count": 1,
   "id": "334b0737",
   "metadata": {},
   "outputs": [],
   "source": [
    "import sys, os, time, glob\n",
    "import numpy as np\n",
    "import pandas as pd\n",
    "import matplotlib.pyplot as plt"
   ]
  },
  {
   "cell_type": "code",
   "execution_count": 2,
   "id": "b1574bea",
   "metadata": {},
   "outputs": [],
   "source": [
    "dir_name = '/home/gidumah/ytopt_project/'\n",
    "kernel_rf = 'RF/with_quantization/'\n",
    "d_sizes = ['small', 'medium', 'large', 'XXL']\n",
    "\n",
    "obj_rf = {}\n",
    "for s in d_sizes:\n",
    "    rates = pd.read_csv(f'{dir_name}{kernel_rf}{s}_problem.csv')['objective']\n",
    "    obj_rf[s] = rates * -1\n",
    "\n",
    "# kernel_dummy = 'DUMMY/'\n",
    "# obj_dummy = {}\n",
    "# for s in d_sizes:\n",
    "#     rates = pd.read_csv(f'{dir_name}{kernel_dummy}{s}_problem.csv')['objective']\n",
    "#     obj_dummy[s] = rates * -1"
   ]
  },
  {
   "cell_type": "code",
   "execution_count": 3,
   "id": "fee8f8a2",
   "metadata": {},
   "outputs": [],
   "source": [
    "gathered = []\n",
    "\n",
    "d_sizes = ['small', 'medium', 'large', 'XXL']\n",
    "\n",
    "\n",
    "for d_size in d_sizes:\n",
    "    \n",
    "    t = 0\n",
    "    evals = []\n",
    "    \n",
    "    kernel_rf = 'RF/with_quantization/'\n",
    "    file_rf = f'{dir_name}{kernel_rf}{d_size}_problem.csv'\n",
    "    evals_rf = np.array(pd.read_csv(file_rf)['objective'])\n",
    "    evals_rf *= -1\n",
    "    n_rf = len(evals_rf)\n",
    "    T_rf = np.array(pd.read_csv(file_rf)['elapsed_sec'])\n",
    "    evals.extend(evals_rf)\n",
    "    plot_rf = []\n",
    "    best_rf = 0\n",
    "    idx_rf = 0\n",
    "    t_rf = T_rf[idx_rf] # picks the elapsed time\n",
    "    \n",
    "#     kernel_dummy = 'DUMMY/'\n",
    "#     file_dummy = f'{dir_name}{kernel_dummy}{d_size}_problem.csv'\n",
    "#     evals_dummy = np.array(pd.read_csv(file_dummy)['objective'])\n",
    "#     evals_dummy *= -1\n",
    "#     n_dummy = len(evals_dummy)\n",
    "#     T_dummy = np.array(pd.read_csv(file_dummy)['elapsed_sec'])\n",
    "#     evals.extend(evals_dummy)\n",
    "#     plot_dummy = []\n",
    "#     best_dummy = 0\n",
    "#     idx_dummy = 0\n",
    "#     t_dummy = T_dummy[idx_dummy] # picks the elapsed time\n",
    "    \n",
    "#     T_max = int(max(T_rf.max(), T_dummy.max()))\n",
    "\n",
    "    T_max = int(max(T_rf))\n",
    "\n",
    "     \n",
    "    \n",
    "    while t < T_max:\n",
    "        try:\n",
    "            if t_rf < t and idx_rf <= n_rf-1:\n",
    "                rf_tmp = float(evals_rf[idx_rf])\n",
    "                if rf_tmp > best_rf:\n",
    "                    best_rf = rf_tmp\n",
    "                plot_rf.append(best_rf)\n",
    "                idx_rf += 1\n",
    "                if idx_rf <= n_rf-1:\n",
    "                    t_rf = T_rf[idx_rf]\n",
    "            elif idx_rf == n_rf or best_rf == 0:\n",
    "                pass\n",
    "            else:\n",
    "                plot_rf.append(best_rf)\n",
    "        except IndexError:\n",
    "            pass\n",
    "        \n",
    "#         try:\n",
    "#             if t_dummy < t and idx_dummy <= n_dummy-1:\n",
    "#                 dummy_tmp = float(evals_dummy[idx_dummy])\n",
    "#                 if dummy_tmp > best_dummy:\n",
    "#                     best_dummy = dummy_tmp\n",
    "#                 plot_dummy.append(best_dummy)\n",
    "#                 idx_dummy += 1\n",
    "                \n",
    "#                 if idx_dummy <= n_dummy-1:\n",
    "#                     t_dummy = T_dummy[idx_dummy]\n",
    "                    \n",
    "#             elif idx_dummy == n_dummy or best_dummy == 0:\n",
    "#                 pass\n",
    "#             else:\n",
    "#                 plot_dummy.append(best_dummy)\n",
    "#         except IndexError:\n",
    "#             pass\n",
    "        \n",
    "        t += 1\n",
    "        \n",
    "    cc = {}\n",
    "    cc['rf'] = plot_rf\n",
    "#     cc['dummy'] = plot_dummy\n",
    "    \n",
    "    gathered.append(cc)"
   ]
  },
  {
   "cell_type": "code",
   "execution_count": 4,
   "id": "e9da2daf",
   "metadata": {},
   "outputs": [],
   "source": [
    "baselines = [2160.26, 55707.7, 252847.0, 329433.0]"
   ]
  },
  {
   "cell_type": "code",
   "execution_count": 5,
   "id": "827315e3",
   "metadata": {},
   "outputs": [
    {
     "data": {
      "text/plain": [
       "dict_keys(['rf'])"
      ]
     },
     "execution_count": 5,
     "metadata": {},
     "output_type": "execute_result"
    }
   ],
   "source": [
    "cc.keys()"
   ]
  },
  {
   "cell_type": "code",
   "execution_count": 6,
   "id": "cebc95cf",
   "metadata": {},
   "outputs": [
    {
     "data": {
      "image/png": "[encoded data removed]",
      "text/plain": [
       "<Figure size 1080x216 with 3 Axes>"
      ]
     },
     "metadata": {
      "needs_background": "light"
     },
     "output_type": "display_data"
    }
   ],
   "source": [
    "fig, axs = plt.subplots(1,3, figsize=(15, 3), sharex=True, sharey=False)\n",
    "BEST = []\n",
    "\n",
    "d_sizes = ['small', 'medium', 'large']\n",
    "\n",
    "\n",
    "for ax, cc, d_size, baseline in zip(axs.flat, gathered, d_sizes, baselines):\n",
    "    \n",
    "    dict_s = cc\n",
    "    \n",
    "    for k, v in dict_s.items():    \n",
    "        if k == 'rf':\n",
    "            k = 'ytopt'\n",
    "            color = 'blue'\n",
    "            \n",
    "        if k == 'dummy':\n",
    "            k = 'Random Search'\n",
    "            color = 'orange'\n",
    "    \n",
    "        BEST.append(v[-1])\n",
    "        ax.plot(range(1, len(v) + 1), v, '.-', label=k, linewidth=1.5, markersize=1.5,color=color)\n",
    "        \n",
    "    ax.plot(range(1, len(v) + 1), baseline*np.ones(len(v)), '-', label='Baseline', linewidth=1.5, markersize=1.5,color='red')\n",
    "    ax.legend(fontsize=13)\n",
    "\n",
    "\n",
    "#     ax.set_ylabel('Best speedup so far', fontsize=12)\n",
    "    ax.set_xlabel('Elapsed time (Seconds)', fontsize=12)\n",
    "    ax.set_title(d_size, fontsize=18)\n",
    "    ax.tick_params(axis=\"x\", labelsize=10)\n",
    "    ax.tick_params(axis=\"y\", labelsize=10)\n",
    "    ax.grid()"
   ]
  },
  {
   "cell_type": "code",
   "execution_count": 7,
   "id": "cef91372",
   "metadata": {},
   "outputs": [
    {
     "data": {
      "text/plain": [
       "329433.0"
      ]
     },
     "execution_count": 7,
     "metadata": {},
     "output_type": "execute_result"
    }
   ],
   "source": [
    "baselines[-1]"
   ]
  },
  {
   "cell_type": "code",
   "execution_count": 10,
   "id": "66cea10e",
   "metadata": {},
   "outputs": [
    {
     "data": {
      "image/png": "[encoded data removed]",
      "text/plain": [
       "<Figure size 324x216 with 1 Axes>"
      ]
     },
     "metadata": {
      "needs_background": "light"
     },
     "output_type": "display_data"
    }
   ],
   "source": [
    "plt.figure(figsize=(4.5,3))\n",
    "\n",
    "for k, v in gathered[-1].items():    \n",
    "    if k == 'rf':\n",
    "        k = 'ytopt'\n",
    "        color = 'blue'\n",
    "        \n",
    "    if k == 'dummy':\n",
    "        k = 'Random Search'\n",
    "        color = 'orange'\n",
    "\n",
    "    BEST.append(v[-1])\n",
    "    plt.plot(range(1, len(v) + 1), v, '.-', label=k, linewidth=1.5, markersize=1.5,color=color)\n",
    "\n",
    "# plt.plot(range(1, len(v) + 1), baselines[-1]*np.ones(len(v)), '--', label='Best Known', linewidth=1.5, markersize=1.5,color='red')\n",
    "plt.plot(range(1, len(v) + 1), baselines[-1]*np.ones(len(v)), '-', label='Baseline', linewidth=1.5, markersize=1.5,color='red')\n",
    "plt.legend(fontsize=13)\n",
    "plt.ylabel('Performance', fontsize=12)\n",
    "plt.xlabel('Elapsed time (Seconds)', fontsize=12)\n",
    "plt.title('XXL', fontsize=18)\n",
    "plt.tick_params(axis=\"x\", labelsize=10)\n",
    "plt.tick_params(axis=\"y\", labelsize=10)\n",
    "plt.grid()"
   ]
  },
  {
   "cell_type": "code",
   "execution_count": null,
   "id": "bc4f84f5",
   "metadata": {},
   "outputs": [],
   "source": []
  },
  {
   "cell_type": "code",
   "execution_count": null,
   "id": "c306bed0",
   "metadata": {},
   "outputs": [],
   "source": []
  },
  {
   "cell_type": "code",
   "execution_count": null,
   "id": "78f4806d",
   "metadata": {},
   "outputs": [],
   "source": []
  }
 ],
 "metadata": {
  "kernelspec": {
   "display_name": "Python 3 (ipykernel)",
   "language": "python",
   "name": "python3"
  },
  "language_info": {
   "codemirror_mode": {
    "name": "ipython",
    "version": 3
   },
   "file_extension": ".py",
   "mimetype": "text/x-python",
   "name": "python",
   "nbconvert_exporter": "python",
   "pygments_lexer": "ipython3",
   "version": "3.9.12"
  }
 },
 "nbformat": 4,
 "nbformat_minor": 5
}
