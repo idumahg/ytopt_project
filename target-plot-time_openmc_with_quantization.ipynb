{
 "cells": [
  {
   "cell_type": "code",
   "execution_count": 1,
   "id": "cb0e9530",
   "metadata": {},
   "outputs": [],
   "source": [
    "import sys, os, time, glob\n",
    "import numpy as np\n",
    "import pandas as pd\n",
    "import matplotlib.pyplot as plt"
   ]
  },
  {
   "cell_type": "code",
   "execution_count": 2,
   "id": "458c8013",
   "metadata": {},
   "outputs": [],
   "source": [
    "dir_name = '/home/gidumah/ytopt_project/'\n",
    "kernel_rf = 'RF/with_quantization/'\n",
    "d_sizes = ['small', 'medium', 'large', 'XXL']\n",
    "\n",
    "obj_rf = {}\n",
    "for s in d_sizes:\n",
    "    rates = pd.read_csv(f'{dir_name}{kernel_rf}{s}_problem.csv')['objective']\n",
    "    obj_rf[s] = rates * -1\n",
    "\n",
    "# kernel_dummy = 'DUMMY/'\n",
    "# obj_dummy = {}\n",
    "# for s in d_sizes:\n",
    "#     rates = pd.read_csv(f'{dir_name}{kernel_dummy}{s}_problem.csv')['objective']\n",
    "#     obj_dummy[s] = rates * -1"
   ]
  },
  {
   "cell_type": "code",
   "execution_count": 4,
   "id": "937f9690",
   "metadata": {},
   "outputs": [
    {
     "name": "stdout",
     "output_type": "stream",
     "text": [
      "cutoff 3033.31\n",
      "cutoff 78589.1\n",
      "cutoff 343346.0\n",
      "cutoff 440098.0\n"
     ]
    }
   ],
   "source": [
    "gathered = []\n",
    "cutoffs = []\n",
    "iters = 0\n",
    "\n",
    "d_sizes = ['small', 'medium', 'large', 'XXL']\n",
    "cutoffs = [3033.31, 78589.1, 343346.0, 440098.0]\n",
    "\n",
    "for d_size in d_sizes:\n",
    "    \n",
    "    t = 0\n",
    "    evals = []\n",
    "    alpha = 0.1\n",
    "    \n",
    "    \n",
    "    kernel_rf = 'RF/with_quantization/'\n",
    "    file_rf = f'{dir_name}{kernel_rf}{d_size}_problem.csv'\n",
    "    evals_rf = np.array(pd.read_csv(file_rf)['objective'])\n",
    "    evals_rf *= -1\n",
    "    n_rf = len(evals_rf)\n",
    "    T_rf = np.array(pd.read_csv(file_rf)['elapsed_sec'])\n",
    "    evals.extend(evals_rf)\n",
    "    counter_rf = 0\n",
    "    plot_rf = []\n",
    "    best_rf = 0\n",
    "    idx_rf = 0\n",
    "    t_rf = T_rf[idx_rf] # picks the elapsed time\n",
    "    \n",
    "#     kernel_dummy = 'DUMMY/'\n",
    "#     file_dummy = f'{dir_name}{kernel_dummy}{d_size}_problem.csv'\n",
    "#     evals_dummy = np.array(pd.read_csv(file_dummy)['objective'])\n",
    "#     evals_dummy *= -1\n",
    "#     n_dummy = len(evals_dummy)\n",
    "#     T_dummy = np.array(pd.read_csv(file_dummy)['elapsed_sec'])\n",
    "#     evals.extend(evals_dummy)\n",
    "#     counter_dummy = 0\n",
    "#     plot_dummy = []\n",
    "#     best_dummy = 0\n",
    "#     idx_dummy = 0\n",
    "#     t_dummy = T_dummy[idx_dummy] # picks the elapsed time\n",
    "    \n",
    "#     T_max = int(max(T_rf.max(), T_dummy.max()))\n",
    "    \n",
    "    T_max = int(max(T_rf))\n",
    "\n",
    "    \n",
    "#     cutoff = sorted(evals, reverse=True)[int(len(evals)*alpha)]#[0]\n",
    "    cutoff = cutoffs[iters]\n",
    "    print ('cutoff', cutoff)  \n",
    "    \n",
    "    while t < T_max:\n",
    "        try:\n",
    "            if t_rf < t and idx_rf <= n_rf-1:\n",
    "                rf_tmp = float(evals_rf[idx_rf])\n",
    "                if rf_tmp > cutoff:\n",
    "                    counter_rf += 1\n",
    "                plot_rf.append(counter_rf)\n",
    "                idx_rf += 1\n",
    "                if idx_rf <= n_rf-1:\n",
    "                    t_rf = T_rf[idx_rf]\n",
    "            elif idx_rf == n_rf or best_rf == 0:\n",
    "                pass\n",
    "            else:\n",
    "                plot_rf.append(best_rf)\n",
    "        except IndexError:\n",
    "            pass\n",
    "        \n",
    "#         try:\n",
    "#             if t_dummy < t and idx_dummy <= n_dummy-1:\n",
    "#                 dummy_tmp = float(evals_dummy[idx_dummy])\n",
    "#                 if dummy_tmp > cutoff:\n",
    "#                     counter_dummy += 1\n",
    "#                 plot_dummy.append(counter_dummy)\n",
    "#                 idx_dummy += 1\n",
    "                \n",
    "#                 if idx_dummy <= n_dummy-1:\n",
    "#                     t_dummy = T_dummy[idx_dummy]\n",
    "                    \n",
    "#             elif idx_dummy == n_dummy or best_dummy == 0:\n",
    "#                 pass\n",
    "#             else:\n",
    "#                 plot_dummy.append(best_dummy)\n",
    "#         except IndexError:\n",
    "#             pass\n",
    "        \n",
    "        t += 1\n",
    "    iters += 1\n",
    "        \n",
    "    cc = {}\n",
    "    cc['rf'] = plot_rf\n",
    "#     cc['dummy'] = plot_dummy\n",
    "    \n",
    "    gathered.append(cc)\n",
    "    cutoffs.append(cutoff)"
   ]
  },
  {
   "cell_type": "code",
   "execution_count": 5,
   "id": "8b449bdd",
   "metadata": {},
   "outputs": [],
   "source": [
    "baselines = [2160.26, 55707.7, 252847.0, 329433.0]"
   ]
  },
  {
   "cell_type": "code",
   "execution_count": 6,
   "id": "bdb38a96",
   "metadata": {},
   "outputs": [
    {
     "data": {
      "image/png": "[encoded data removed]",
      "text/plain": [
       "<Figure size 1080x216 with 3 Axes>"
      ]
     },
     "metadata": {
      "needs_background": "light"
     },
     "output_type": "display_data"
    }
   ],
   "source": [
    "fig, axs = plt.subplots(1,3, figsize=(15, 3), sharex=False, sharey=True)\n",
    "for ax, cc, d_size, cut in zip(axs.flat,gathered,d_sizes,cutoffs):\n",
    "    dict_s = cc\n",
    "    \n",
    "    for k, v in dict_s.items():    \n",
    "        if k == 'rf':\n",
    "            k = 'ytopt'\n",
    "            color = 'blue'\n",
    "            \n",
    "#         if k == 'dummy':\n",
    "#             k = 'Random Search'\n",
    "#             color = 'orange'\n",
    "    \n",
    "        ax.plot(range(1, len(v) + 1), v, '.-', label=k, linewidth=1.5, markersize=1.5,color=color)\n",
    "        \n",
    "#     ax.plot(range(1, len(v) + 1), baseline*np.ones(len(v)), '-', label='Baseline', linewidth=1.5, markersize=1.5,color='red')\n",
    "    ax.legend(fontsize=13)\n",
    "\n",
    "\n",
    "#     ax.set_ylabel('Best speedup so far', fontsize=12)\n",
    "    ax.set_xlabel('Elapsed time (Seconds)', fontsize=12)\n",
    "    ax.set_title(d_size, fontsize=18)\n",
    "    ax.set_ylabel('No. of config speedup >' + str(cut), fontsize=12)\n",
    "    ax.tick_params(axis=\"x\", labelsize=10)\n",
    "    ax.tick_params(axis=\"y\", labelsize=10)\n",
    "    ax.grid()"
   ]
  },
  {
   "cell_type": "code",
   "execution_count": 7,
   "id": "c2b8fb3a",
   "metadata": {},
   "outputs": [
    {
     "data": {
      "text/plain": [
       "[3033.31, 78589.1, 343346.0, 440098.0, 3033.31, 78589.1, 343346.0, 440098.0]"
      ]
     },
     "execution_count": 7,
     "metadata": {},
     "output_type": "execute_result"
    }
   ],
   "source": [
    "cutoffs"
   ]
  },
  {
   "cell_type": "code",
   "execution_count": 8,
   "id": "f96cbb42",
   "metadata": {},
   "outputs": [
    {
     "data": {
      "image/png": "[encoded data removed]",
      "text/plain": [
       "<Figure size 360x288 with 1 Axes>"
      ]
     },
     "metadata": {
      "needs_background": "light"
     },
     "output_type": "display_data"
    }
   ],
   "source": [
    "plt.figure(figsize=(5,4))\n",
    "\n",
    "for k, v in gathered[-1].items():    \n",
    "    if k == 'rf':\n",
    "        k = 'ytopt'\n",
    "        color = 'blue'\n",
    "        \n",
    "#     if k == 'dummy':\n",
    "#         k = 'Random Search'\n",
    "#         color = 'orange'\n",
    "\n",
    "    plt.plot(range(1, len(v) + 1), v, '.-', label=k, linewidth=1.5, markersize=1.5,color=color)\n",
    "\n",
    "# plt.plot(range(1, len(v) + 1), baselines[-1]*np.ones(len(v)), '-', label='Baseline', linewidth=1.5, markersize=1.5,color='red')\n",
    "plt.legend(fontsize=13)\n",
    "plt.xlabel('Elapsed time (Seconds)', fontsize=12)\n",
    "plt.ylabel('No. of config speedup > '+str(cutoff), fontsize=12)\n",
    "plt.title('XXL', fontsize=18)\n",
    "plt.tick_params(axis=\"x\", labelsize=10)\n",
    "plt.tick_params(axis=\"y\", labelsize=10)\n",
    "plt.grid()"
   ]
  },
  {
   "cell_type": "code",
   "execution_count": null,
   "id": "4966791b",
   "metadata": {},
   "outputs": [],
   "source": []
  }
 ],
 "metadata": {
  "kernelspec": {
   "display_name": "Python 3 (ipykernel)",
   "language": "python",
   "name": "python3"
  },
  "language_info": {
   "codemirror_mode": {
    "name": "ipython",
    "version": 3
   },
   "file_extension": ".py",
   "mimetype": "text/x-python",
   "name": "python",
   "nbconvert_exporter": "python",
   "pygments_lexer": "ipython3",
   "version": "3.9.12"
  }
 },
 "nbformat": 4,
 "nbformat_minor": 5
}
