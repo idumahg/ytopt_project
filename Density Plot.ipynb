{
 "cells": [
  {
   "cell_type": "code",
   "execution_count": null,
   "id": "5701b59b",
   "metadata": {},
   "outputs": [],
   "source": [
    "import sys, os, time, glob\n",
    "import numpy as np\n",
    "from datetime import datetime\n",
    "from statistics import median\n",
    "import matplotlib.pyplot as plt\n",
    "# import statsmodels.api as sm\n",
    "import csv\n",
    "from csv import writer\n",
    "from csv import reader\n",
    "import pandas as pd \n",
    "\n",
    "from sklearn.model_selection import GridSearchCV\n",
    "import numpy as np\n",
    "import matplotlib\n",
    "import matplotlib.pyplot as plt\n",
    "from scipy.stats import norm\n",
    "from sklearn.neighbors import KernelDensity"
   ]
  },
  {
   "cell_type": "code",
   "execution_count": null,
   "id": "7654a424",
   "metadata": {},
   "outputs": [],
   "source": [
    "dir_name = '/Users/gideonidumah/openmc_project/'\n",
    "kernel_rf = 'RF/'\n",
    "d_sizes = ['small', 'medium', 'large', 'XXL']\n",
    "\n",
    "obj_rf = {}\n",
    "for s in d_sizes:\n",
    "    rates = pd.read_csv(f'{dir_name}{kernel_rf}{s}_problem.csv')['objective']\n",
    "    obj_rf[s] = rates * -1\n",
    "\n",
    "kernel_dummy = 'DUMMY/'\n",
    "obj_dummy = {}\n",
    "for s in d_sizes:\n",
    "    rates = pd.read_csv(f'{dir_name}{kernel_dummy}{s}_problem.csv')['objective']\n",
    "    obj_dummy[s] = rates * -1"
   ]
  }
 ],
 "metadata": {
  "kernelspec": {
   "display_name": "Python 3 (ipykernel)",
   "language": "python",
   "name": "python3"
  },
  "language_info": {
   "codemirror_mode": {
    "name": "ipython",
    "version": 3
   },
   "file_extension": ".py",
   "mimetype": "text/x-python",
   "name": "python",
   "nbconvert_exporter": "python",
   "pygments_lexer": "ipython3",
   "version": "3.7.11"
  }
 },
 "nbformat": 4,
 "nbformat_minor": 5
}
