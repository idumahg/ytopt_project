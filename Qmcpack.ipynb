{
 "cells": [
  {
   "cell_type": "code",
   "execution_count": 49,
   "id": "430faaab",
   "metadata": {},
   "outputs": [],
   "source": [
    "import sys, os, time, glob\n",
    "import numpy as np\n",
    "import pandas as pd\n",
    "import matplotlib.pyplot as plt"
   ]
  },
  {
   "cell_type": "code",
   "execution_count": 50,
   "id": "e1f2b55e",
   "metadata": {},
   "outputs": [],
   "source": [
    "dir_name = '/home/gidumah/ytopt_project/'\n",
    "kernel_rf = 'qmcpack/'\n",
    "\n",
    "d_sizes = ['S8', 'S32', 'S128']\n",
    "\n",
    "obj_rf = {}\n",
    "for s in d_sizes:\n",
    "    rates = pd.read_csv(f'{dir_name}{kernel_rf}{s}_problem.csv')['objective']\n",
    "    obj_rf[s] = rates * -1"
   ]
  },
  {
   "cell_type": "code",
   "execution_count": 51,
   "id": "11b597c5",
   "metadata": {},
   "outputs": [],
   "source": [
    "gathered = []\n",
    "\n",
    "d_sizes = ['S8', 'S32', 'S128']\n",
    "\n",
    "\n",
    "for d_size in d_sizes:\n",
    "    \n",
    "    t = 0\n",
    "    evals = []\n",
    "    \n",
    "    kernel_rf = 'qmcpack/'\n",
    "    file_rf = f'{dir_name}{kernel_rf}{d_size}_problem.csv'\n",
    "    evals_rf = np.array(pd.read_csv(file_rf)['objective'])\n",
    "    evals_rf *= -1\n",
    "    n_rf = len(evals_rf)\n",
    "    T_rf = np.array(pd.read_csv(file_rf)['elapsed_sec'])\n",
    "    evals.extend(evals_rf)\n",
    "    plot_rf = []\n",
    "    best_rf = 0\n",
    "    idx_rf = 0\n",
    "    t_rf = T_rf[idx_rf] # picks the elapsed time\n",
    "    \n",
    "    \n",
    "    T_max = int(max(T_rf))\n",
    "\n",
    "     \n",
    "    \n",
    "    while t < T_max:\n",
    "        try:\n",
    "            if t_rf < t and idx_rf <= n_rf-1:\n",
    "                rf_tmp = float(evals_rf[idx_rf])\n",
    "                if rf_tmp > best_rf:\n",
    "                    best_rf = rf_tmp\n",
    "                plot_rf.append(best_rf)\n",
    "                idx_rf += 1\n",
    "                if idx_rf <= n_rf-1:\n",
    "                    t_rf = T_rf[idx_rf]\n",
    "            elif idx_rf == n_rf or best_rf == 0:\n",
    "                pass\n",
    "            else:\n",
    "                plot_rf.append(best_rf)\n",
    "        except IndexError:\n",
    "            pass\n",
    "        \n",
    "        t += 1\n",
    "        \n",
    "    cc = {}\n",
    "    cc['rf'] = plot_rf\n",
    "#     cc['dummy'] = plot_dummy\n",
    "    \n",
    "    gathered.append(cc)"
   ]
  },
  {
   "cell_type": "code",
   "execution_count": 52,
   "id": "a2254a15",
   "metadata": {},
   "outputs": [],
   "source": [
    "baselines = [48.93328475427091, 3.195653910681473, 0.12403870007442322]"
   ]
  },
  {
   "cell_type": "code",
   "execution_count": 54,
   "id": "ff6677fc",
   "metadata": {},
   "outputs": [
    {
     "data": {
      "image/png": "[encoded data removed]",
      "text/plain": [
       "<Figure size 1080x216 with 3 Axes>"
      ]
     },
     "metadata": {
      "needs_background": "light"
     },
     "output_type": "display_data"
    }
   ],
   "source": [
    "fig, axs = plt.subplots(1,3, figsize=(15, 3), sharex=True, sharey=False)\n",
    "BEST = []\n",
    "\n",
    "d_sizes = ['S8', 'S32', 'S128']\n",
    "\n",
    "for ax, cc, d_size, baseline in zip(axs.flat, gathered, d_sizes, baselines):\n",
    "    \n",
    "    dict_s = cc\n",
    "    \n",
    "    for k, v in dict_s.items():    \n",
    "        if k == 'rf':\n",
    "            k = 'ytopt'\n",
    "            color = 'blue'\n",
    "            \n",
    "        if k == 'dummy':\n",
    "            k = 'Random Search'\n",
    "            color = 'orange'\n",
    "    \n",
    "        BEST.append(v[-1])\n",
    "        ax.plot(range(1, len(v) + 1), v, '.-', label=k, linewidth=1.5, markersize=1.5,color=color)\n",
    "        \n",
    "    ax.plot(range(1, len(v) + 1), baseline*np.ones(len(v)), '-', label='Baseline', linewidth=1.5, markersize=1.5,color='red')\n",
    "    ax.legend(fontsize=13)\n",
    "\n",
    "\n",
    "#     ax.set_ylabel('Best speedup so far', fontsize=12)\n",
    "    ax.set_xlabel('Elapsed time (Seconds)', fontsize=12)\n",
    "    ax.set_title(d_size, fontsize=18)\n",
    "    ax.tick_params(axis=\"x\", labelsize=10)\n",
    "    ax.tick_params(axis=\"y\", labelsize=10)\n",
    "    ax.grid()"
   ]
  },
  {
   "cell_type": "code",
   "execution_count": null,
   "id": "a57f92c0",
   "metadata": {},
   "outputs": [],
   "source": []
  }
 ],
 "metadata": {
  "kernelspec": {
   "display_name": "Python 3 (ipykernel)",
   "language": "python",
   "name": "python3"
  },
  "language_info": {
   "codemirror_mode": {
    "name": "ipython",
    "version": 3
   },
   "file_extension": ".py",
   "mimetype": "text/x-python",
   "name": "python",
   "nbconvert_exporter": "python",
   "pygments_lexer": "ipython3",
   "version": "3.9.12"
  }
 },
 "nbformat": 4,
 "nbformat_minor": 5
}
