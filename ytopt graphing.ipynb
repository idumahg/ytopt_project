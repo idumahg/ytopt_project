{
 "cells": [
  {
   "cell_type": "code",
   "execution_count": 1,
   "id": "830d0fd2",
   "metadata": {},
   "outputs": [],
   "source": [
    "import pandas as pd\n",
    "import numpy as np\n",
    "import matplotlib.pyplot as plt"
   ]
  },
  {
   "cell_type": "code",
   "execution_count": 3,
   "id": "bd821b53",
   "metadata": {},
   "outputs": [],
   "source": [
    "data = pd.read_csv('XXL_results.csv')"
   ]
  },
  {
   "cell_type": "code",
   "execution_count": 4,
   "id": "176d8e1a",
   "metadata": {},
   "outputs": [
    {
     "data": {
      "text/html": [
       "<div>\n",
       "<style scoped>\n",
       "    .dataframe tbody tr th:only-of-type {\n",
       "        vertical-align: middle;\n",
       "    }\n",
       "\n",
       "    .dataframe tbody tr th {\n",
       "        vertical-align: top;\n",
       "    }\n",
       "\n",
       "    .dataframe thead th {\n",
       "        text-align: right;\n",
       "    }\n",
       "</style>\n",
       "<table border=\"1\" class=\"dataframe\">\n",
       "  <thead>\n",
       "    <tr style=\"text-align: right;\">\n",
       "      <th></th>\n",
       "      <th>p0</th>\n",
       "      <th>p1</th>\n",
       "      <th>p2</th>\n",
       "      <th>p3</th>\n",
       "      <th>p4</th>\n",
       "      <th>objective</th>\n",
       "      <th>elapsed_sec</th>\n",
       "    </tr>\n",
       "  </thead>\n",
       "  <tbody>\n",
       "    <tr>\n",
       "      <th>0</th>\n",
       "      <td>1</td>\n",
       "      <td>5761837</td>\n",
       "      <td>55472</td>\n",
       "      <td>69980</td>\n",
       "      <td>-Dqueueless=off</td>\n",
       "      <td>-394817.0</td>\n",
       "      <td>195.180927</td>\n",
       "    </tr>\n",
       "    <tr>\n",
       "      <th>1</th>\n",
       "      <td>1</td>\n",
       "      <td>1437001</td>\n",
       "      <td>74324</td>\n",
       "      <td>28223</td>\n",
       "      <td>-Dqueueless=on</td>\n",
       "      <td>-334019.0</td>\n",
       "      <td>383.726742</td>\n",
       "    </tr>\n",
       "    <tr>\n",
       "      <th>2</th>\n",
       "      <td>4</td>\n",
       "      <td>320050</td>\n",
       "      <td>74016</td>\n",
       "      <td>77577</td>\n",
       "      <td>-Dqueueless=on</td>\n",
       "      <td>-365758.0</td>\n",
       "      <td>563.577747</td>\n",
       "    </tr>\n",
       "    <tr>\n",
       "      <th>3</th>\n",
       "      <td>2</td>\n",
       "      <td>7302284</td>\n",
       "      <td>39417</td>\n",
       "      <td>86516</td>\n",
       "      <td>-Dqueueless=off</td>\n",
       "      <td>0.0</td>\n",
       "      <td>695.595386</td>\n",
       "    </tr>\n",
       "    <tr>\n",
       "      <th>4</th>\n",
       "      <td>3</td>\n",
       "      <td>3577595</td>\n",
       "      <td>93501</td>\n",
       "      <td>2683</td>\n",
       "      <td>-Dqueueless=on</td>\n",
       "      <td>0.0</td>\n",
       "      <td>820.183984</td>\n",
       "    </tr>\n",
       "  </tbody>\n",
       "</table>\n",
       "</div>"
      ],
      "text/plain": [
       "   p0       p1     p2     p3                 p4  objective  elapsed_sec\n",
       "0   1  5761837  55472  69980   -Dqueueless=off   -394817.0   195.180927\n",
       "1   1  1437001  74324  28223    -Dqueueless=on   -334019.0   383.726742\n",
       "2   4   320050  74016  77577    -Dqueueless=on   -365758.0   563.577747\n",
       "3   2  7302284  39417  86516   -Dqueueless=off         0.0   695.595386\n",
       "4   3  3577595  93501   2683    -Dqueueless=on         0.0   820.183984"
      ]
     },
     "execution_count": 4,
     "metadata": {},
     "output_type": "execute_result"
    }
   ],
   "source": [
    "# data = pd.read_csv('results_small_problem.csv')\n",
    "data.head()"
   ]
  },
  {
   "cell_type": "code",
   "execution_count": 5,
   "id": "8c215e53",
   "metadata": {},
   "outputs": [
    {
     "data": {
      "text/plain": [
       "-448234.0"
      ]
     },
     "execution_count": 5,
     "metadata": {},
     "output_type": "execute_result"
    }
   ],
   "source": [
    "min(data['objective'])"
   ]
  },
  {
   "cell_type": "code",
   "execution_count": 52,
   "id": "8685ec36",
   "metadata": {},
   "outputs": [],
   "source": [
    "data['objective'] = data['objective']*-1"
   ]
  },
  {
   "cell_type": "code",
   "execution_count": 53,
   "id": "a87b4ca6",
   "metadata": {},
   "outputs": [
    {
     "data": {
      "text/html": [
       "<div>\n",
       "<style scoped>\n",
       "    .dataframe tbody tr th:only-of-type {\n",
       "        vertical-align: middle;\n",
       "    }\n",
       "\n",
       "    .dataframe tbody tr th {\n",
       "        vertical-align: top;\n",
       "    }\n",
       "\n",
       "    .dataframe thead th {\n",
       "        text-align: right;\n",
       "    }\n",
       "</style>\n",
       "<table border=\"1\" class=\"dataframe\">\n",
       "  <thead>\n",
       "    <tr style=\"text-align: right;\">\n",
       "      <th></th>\n",
       "      <th>p0</th>\n",
       "      <th>p1</th>\n",
       "      <th>p2</th>\n",
       "      <th>p3</th>\n",
       "      <th>p4</th>\n",
       "      <th>objective</th>\n",
       "      <th>elapsed_sec</th>\n",
       "      <th>baseline</th>\n",
       "    </tr>\n",
       "  </thead>\n",
       "  <tbody>\n",
       "    <tr>\n",
       "      <th>0</th>\n",
       "      <td>1</td>\n",
       "      <td>5761837</td>\n",
       "      <td>55472</td>\n",
       "      <td>69980</td>\n",
       "      <td>-Dqueueless=off</td>\n",
       "      <td>2271.25</td>\n",
       "      <td>15.353559</td>\n",
       "      <td>2219.59</td>\n",
       "    </tr>\n",
       "    <tr>\n",
       "      <th>1</th>\n",
       "      <td>1</td>\n",
       "      <td>1437001</td>\n",
       "      <td>74324</td>\n",
       "      <td>28223</td>\n",
       "      <td>-Dqueueless=on</td>\n",
       "      <td>2534.34</td>\n",
       "      <td>31.503206</td>\n",
       "      <td>2219.59</td>\n",
       "    </tr>\n",
       "    <tr>\n",
       "      <th>2</th>\n",
       "      <td>4</td>\n",
       "      <td>320050</td>\n",
       "      <td>74016</td>\n",
       "      <td>77577</td>\n",
       "      <td>-Dqueueless=on</td>\n",
       "      <td>2963.60</td>\n",
       "      <td>46.755290</td>\n",
       "      <td>2219.59</td>\n",
       "    </tr>\n",
       "    <tr>\n",
       "      <th>3</th>\n",
       "      <td>2</td>\n",
       "      <td>7302284</td>\n",
       "      <td>39417</td>\n",
       "      <td>86516</td>\n",
       "      <td>-Dqueueless=off</td>\n",
       "      <td>2539.92</td>\n",
       "      <td>62.996784</td>\n",
       "      <td>2219.59</td>\n",
       "    </tr>\n",
       "    <tr>\n",
       "      <th>4</th>\n",
       "      <td>3</td>\n",
       "      <td>3577595</td>\n",
       "      <td>93501</td>\n",
       "      <td>2683</td>\n",
       "      <td>-Dqueueless=on</td>\n",
       "      <td>2560.06</td>\n",
       "      <td>79.121724</td>\n",
       "      <td>2219.59</td>\n",
       "    </tr>\n",
       "  </tbody>\n",
       "</table>\n",
       "</div>"
      ],
      "text/plain": [
       "   p0       p1     p2     p3                 p4  objective  elapsed_sec  \\\n",
       "0   1  5761837  55472  69980   -Dqueueless=off     2271.25    15.353559   \n",
       "1   1  1437001  74324  28223    -Dqueueless=on     2534.34    31.503206   \n",
       "2   4   320050  74016  77577    -Dqueueless=on     2963.60    46.755290   \n",
       "3   2  7302284  39417  86516   -Dqueueless=off     2539.92    62.996784   \n",
       "4   3  3577595  93501   2683    -Dqueueless=on     2560.06    79.121724   \n",
       "\n",
       "   baseline  \n",
       "0   2219.59  \n",
       "1   2219.59  \n",
       "2   2219.59  \n",
       "3   2219.59  \n",
       "4   2219.59  "
      ]
     },
     "execution_count": 53,
     "metadata": {},
     "output_type": "execute_result"
    }
   ],
   "source": [
    "baseline = 2219.59*np.ones(len(data))\n",
    "data['baseline'] = baseline\n",
    "data.head()"
   ]
  },
  {
   "cell_type": "code",
   "execution_count": 54,
   "id": "6053c59d",
   "metadata": {},
   "outputs": [
    {
     "data": {
      "image/png": "[encoded data removed]",
      "text/plain": [
       "<Figure size 432x288 with 1 Axes>"
      ]
     },
     "metadata": {
      "needs_background": "light"
     },
     "output_type": "display_data"
    }
   ],
   "source": [
    "ax = plt.gca()\n",
    "data.plot(x ='elapsed_sec', y ='objective', kind ='line', ax=ax)\n",
    "data.plot(x ='elapsed_sec', y='baseline', ax=ax)\n",
    "plt.title('Small problem')\n",
    "plt.xlabel('elapsed_sec')\n",
    "plt.ylabel('obj value')\n",
    "plt.legend(loc='best')\n",
    "plt.show()"
   ]
  },
  {
   "cell_type": "code",
   "execution_count": 61,
   "id": "1d3de081",
   "metadata": {},
   "outputs": [
    {
     "data": {
      "text/plain": [
       "25"
      ]
     },
     "execution_count": 61,
     "metadata": {},
     "output_type": "execute_result"
    }
   ],
   "source": [
    "def test(x):\n",
    "    if not x == 5:\n",
    "        return \n",
    "    \n",
    "    return x + 20\n",
    "\n",
    "test(5)"
   ]
  },
  {
   "cell_type": "code",
   "execution_count": null,
   "id": "b7190368",
   "metadata": {},
   "outputs": [],
   "source": []
  }
 ],
 "metadata": {
  "kernelspec": {
   "display_name": "Python 3 (ipykernel)",
   "language": "python",
   "name": "python3"
  },
  "language_info": {
   "codemirror_mode": {
    "name": "ipython",
    "version": 3
   },
   "file_extension": ".py",
   "mimetype": "text/x-python",
   "name": "python",
   "nbconvert_exporter": "python",
   "pygments_lexer": "ipython3",
   "version": "3.7.11"
  }
 },
 "nbformat": 4,
 "nbformat_minor": 5
}
